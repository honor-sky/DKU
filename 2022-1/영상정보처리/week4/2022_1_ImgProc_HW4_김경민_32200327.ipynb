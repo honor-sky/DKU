{
  "nbformat": 4,
  "nbformat_minor": 0,
  "metadata": {
    "colab": {
      "name": "2022-1-ImgProc-HW4-김경민-32200327.ipynb",
      "provenance": [],
      "collapsed_sections": []
    },
    "kernelspec": {
      "name": "python3",
      "display_name": "Python 3"
    }
  },
  "cells": [
    {
      "cell_type": "markdown",
      "metadata": {
        "id": "7m6QNVZQQ-lh"
      },
      "source": [
        "## 영상정보처리 4주차 과제 템플리트\n",
        "- 점수: 10점 만점\n",
        "- 이미지 경로 잘못 사용한 경우: -3\n",
        "- 문제1: 5점 \n",
        "- 문제2: 5점\n",
        "\n",
        "이름: 김경민            \n",
        "학번: 32200327\n",
        "\n",
        "\n"
      ]
    },
    {
      "cell_type": "code",
      "metadata": {
        "id": "791T0SqaHngL",
        "colab": {
          "base_uri": "https://localhost:8080/",
          "height": 0
        },
        "outputId": "5c8bd63d-c8cc-4988-e61d-93aaa22c30c0"
      },
      "source": [
        "from google.colab import drive \n",
        "drive.mount('/gdrive')"
      ],
      "execution_count": 3,
      "outputs": [
        {
          "output_type": "stream",
          "name": "stdout",
          "text": [
            "Mounted at /gdrive\n"
          ]
        }
      ]
    },
    {
      "cell_type": "code",
      "source": [
        "%cd /gdrive/My\\ Drive/Classroom/[22-1 영상정보처리] 2000004793-2022-1/ImageProcClass/Notebook-week4/\n",
        "!pwd"
      ],
      "metadata": {
        "colab": {
          "base_uri": "https://localhost:8080/",
          "height": 0
        },
        "id": "mXNIh25ZosCz",
        "outputId": "c880212c-2152-4946-b062-894cfae0920f"
      },
      "execution_count": 4,
      "outputs": [
        {
          "output_type": "stream",
          "name": "stdout",
          "text": [
            "/gdrive/My Drive/Classroom/[22-1 영상정보처리] 2000004793-2022-1/ImageProcClass/Notebook-week4\n",
            "/gdrive/My Drive/Classroom/[22-1 영상정보처리] 2000004793-2022-1/ImageProcClass/Notebook-week4\n"
          ]
        }
      ]
    },
    {
      "cell_type": "markdown",
      "metadata": {
        "id": "3zS1iBGrH0Rj"
      },
      "source": [
        "Souce image 는 다음의 image_path 를 변경하지 말고 이용할 것. logo.png 는 opencv_logo.png 와 동일 이미지이므로 해당 이미지가 없는 경우, 복사하여 이름을 변경하여 사용할 것. 경로가 다른 경우 감점 -3"
      ]
    },
    {
      "cell_type": "code",
      "metadata": {
        "id": "h-obB5qQHu0G"
      },
      "source": [
        "image_path = '../Dongkeun-OpenCV-ImgData/logo.png' "
      ],
      "execution_count": 5,
      "outputs": []
    },
    {
      "cell_type": "markdown",
      "metadata": {
        "id": "rCjnSlTRILjW"
      },
      "source": [
        "## 문제 1: 부분 이미지를 이용한 이미지 생성\n",
        "\n",
        "1. 위의 이미지 경로를 이용하여 이미지를 컬러 이미지 org_image 로 읽기\n",
        "2. 읽은 이미지와 동일 크기의 컬러 이미지를 new_image1 로 만들기 \n",
        "3. new_image1 를 x 축 방향으로 4등분하고 왼쪽부터 subimage 1, 2, 3, 4 라고 할때 다음과 같이 new_image1을 구성하기 \n",
        "  - x 축값이 4등분하여 4개의 영역이 동일 크기가 되지 않는 경우, 맨 오른쪽 영역에는 남는 크기 배분\n",
        "  - subimage 1: 동일 영역에 해당하는 org_image 부분 복사하기 \n",
        "  - subimage 2: 동일 영역에 해당하는 org_image 부분에서 Red 성분만 복사하고, green/blue 부분은 0으로 하여 subimage 2에 채워 넣을 것\n",
        "  - subimage 3: 동일 영역에 해당하는 org_image 부분에서 Blue 성분만 복사하고, green/red 부분은 0으로 하여 subimage 3에 채워 넣을 것\n",
        "  - subimage 4: 동일 영역에 해당하는 org_image 부분에서 Green 성분만 복사하고, blue/red 부분은 0으로 하여 subimage 4에 채워 넣을 것\n",
        "\n",
        "4. new_image1 을 디스플레이하기 "
      ]
    },
    {
      "cell_type": "code",
      "source": [
        "import cv2\n",
        "from google.colab.patches import cv2_imshow\n",
        "import matplotlib.pyplot as plt\n",
        "import numpy as np"
      ],
      "metadata": {
        "id": "zKBJT8BlmsXt"
      },
      "execution_count": 17,
      "outputs": []
    },
    {
      "cell_type": "code",
      "metadata": {
        "id": "wP0-d9HwQ2Ns",
        "colab": {
          "base_uri": "https://localhost:8080/",
          "height": 0
        },
        "outputId": "72dce249-1d78-42f9-d5fa-40e80bee35ce"
      },
      "source": [
        "org_image = cv2.imread(image_path,cv2.IMREAD_COLOR)\n",
        "print(\"size =\",org_image.size)"
      ],
      "execution_count": 35,
      "outputs": [
        {
          "output_type": "stream",
          "name": "stdout",
          "text": [
            "size = 102684\n"
          ]
        }
      ]
    },
    {
      "cell_type": "code",
      "source": [
        "#org_image 동일 크기 공백 컬러 이미지 생성\n",
        "new_image1 = np.zeros((org_image.shape),dtype=\"uint8\")\n",
        "new_image1[:] = 255\n",
        "print(\"size =\",new_image1.size)"
      ],
      "metadata": {
        "colab": {
          "base_uri": "https://localhost:8080/",
          "height": 0
        },
        "id": "hFzHXciip6YQ",
        "outputId": "1fa52e6a-dd6b-4f55-f2af-34d99a56d5ea"
      },
      "execution_count": 36,
      "outputs": [
        {
          "output_type": "stream",
          "name": "stdout",
          "text": [
            "size = 102684\n"
          ]
        }
      ]
    },
    {
      "cell_type": "code",
      "source": [
        "h,w,c = new_image1.shape\n",
        "#print(h,w)\n",
        "base = int(w/4)\n",
        "cv2_imshow(org_image)\n",
        "\n",
        "for i in range(4):\n",
        "  for j in range(3):\n",
        "    if(i==0):\n",
        "      new_image1[:,base*i:base*(i+1),j] = org_image[:,base*i:base*(i+1),j] \n",
        "    elif(i==1):\n",
        "      if(j==2):\n",
        "        new_image1[:,base*i:base*(i+1),j] = org_image[:,base*i:base*(i+1),j] \n",
        "      else:\n",
        "        new_image1[:,base*i:base*(i+1),j] = 0\n",
        "    elif(i==2):\n",
        "      if(j==0):\n",
        "        new_image1[:,base*i:base*(i+1),j] = org_image[:,base*i:base*(i+1),j] \n",
        "      else:\n",
        "        new_image1[:,base*i:base*(i+1),j] = 0\n",
        "    elif(i==3):\n",
        "      if(j==1):\n",
        "        new_image1[:,base*i:base*(i+1),j] = org_image[:,base*i:base*(i+1),j] \n",
        "      else:\n",
        "        new_image1[:,base*i:base*(i+1),j] = 0\n",
        "\n",
        "cv2_imshow(new_image1)"
      ],
      "metadata": {
        "colab": {
          "base_uri": "https://localhost:8080/",
          "height": 361
        },
        "id": "pVWvhcjap7Wk",
        "outputId": "56246270-adcc-4948-815d-68d22e5760c1"
      },
      "execution_count": 39,
      "outputs": [
        {
          "output_type": "display_data",
          "data": {
            "text/plain": [
              "<PIL.Image.Image image mode=RGB size=199x172 at 0x7FF106324890>"
            ],
            "image/png": "[encoded data removed]"
          },
          "metadata": {}
        },
        {
          "output_type": "display_data",
          "data": {
            "text/plain": [
              "<PIL.Image.Image image mode=RGB size=199x172 at 0x7FF106324810>"
            ],
            "image/png": "[encoded data removed]"
          },
          "metadata": {}
        }
      ]
    },
    {
      "cell_type": "markdown",
      "metadata": {
        "id": "nfj3-xj8KAUc"
      },
      "source": [
        "## 문제 2: 식을 이용한 grayscale 이미지 만들기 \n",
        "\n",
        "1. org_image와 같은 크기의 공백 grayscale 이미지 new_image2 만들기\n",
        "2. org_image 의 각 화소를 접근하여 강의에서 설명한 공식을 사용하여 grayscale 값으로 변환하여 새로운 그레이스케일 이미지 new_image2 에 저장하기\n",
        "2. new_image2 디스플레이하기 \n",
        "\n",
        "[참조] https://stackoverflow.com/questions/17615963/standard-rgb-to-grayscale-conversion\n",
        "\n"
      ]
    },
    {
      "cell_type": "code",
      "metadata": {
        "id": "x_C54G9QKrMQ",
        "colab": {
          "base_uri": "https://localhost:8080/",
          "height": 189
        },
        "outputId": "31851ee8-e6ca-4b4a-d5d1-adf58896efe0"
      },
      "source": [
        "#공백 grayscale image\n",
        "new_image2 = np.zeros((org_image.shape[0],org_image.shape[1]),dtype=\"uint8\") #org_image와 크기는 동일한 공백 이미지 생성(channel= 1 grayscale image)\n",
        "#new_image2[:] = 255 #공백색을 White로\n",
        "#print(new_image2.shape)\n",
        "#cv2_imshow(new_image2) \n",
        "\n",
        "row, col ,ch = org_image.shape #row:h col:w\n",
        "for i in range(row):\n",
        "  for j in range(col):\n",
        "    new_image2[i,j] = ((org_image[i,j,0] * 0.11) + (org_image[i,j,1] * 0.59) + (org_image[i,j,2] * 0.30))\n",
        "\n",
        "cv2_imshow(new_image2)\n"
      ],
      "execution_count": 40,
      "outputs": [
        {
          "output_type": "display_data",
          "data": {
            "text/plain": [
              "<PIL.Image.Image image mode=L size=199x172 at 0x7FF106236DD0>"
            ],
            "image/png": "[encoded data removed]"
          },
          "metadata": {}
        }
      ]
    }
  ]
}